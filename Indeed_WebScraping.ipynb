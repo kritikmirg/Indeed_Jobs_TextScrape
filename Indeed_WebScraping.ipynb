{
 "cells": [
  {
   "cell_type": "markdown",
   "metadata": {
    "id": "N0d7T8rxkxUb"
   },
   "source": [
    "# Assignment 4 - Kritik Mirg"
   ]
  },
  {
   "cell_type": "code",
   "execution_count": 1,
   "metadata": {
    "id": "JjL0AT8czlZb"
   },
   "outputs": [],
   "source": [
    "import pandas as pd\n",
    "from bs4 import BeautifulSoup\n",
    "from requests import get\n",
    "import re"
   ]
  },
  {
   "cell_type": "markdown",
   "metadata": {
    "id": "mhLIsBcOk_kt"
   },
   "source": [
    "### Step 1 [Modifying the URL]"
   ]
  },
  {
   "cell_type": "code",
   "execution_count": 2,
   "metadata": {
    "id": "bAiuai7mzpQ6"
   },
   "outputs": [],
   "source": [
    "job_titles = ['Data Analyst', 'Data Scientist', 'Database Administrator',\n",
    "             'Machine Learning Engineer', 'Data Engineer']\n",
    "states = ['Virginia', 'New York', 'California', \n",
    "          'Texas', 'Washington State']"
   ]
  },
  {
   "cell_type": "code",
   "execution_count": 3,
   "metadata": {
    "id": "mTmjGhoGzvGr"
   },
   "outputs": [],
   "source": [
    "links = []\n",
    "for job in job_titles:\n",
    "    job_split = job.split()\n",
    "    for st in states:\n",
    "        state_split = st.split()\n",
    "        \n",
    "        if len(state_split) > 1:\n",
    "            url = 'https://www.indeed.com/jobs?q=' + job_split[0] + '+' + job_split[1] + '&l=' + state_split[0] + '+' + state_split[1] + '&sort=date'\n",
    "            \n",
    "        else: \n",
    "            url = 'https://www.indeed.com/jobs?q=' + job_split[0] + '+' + job_split[1] + '&l=' + state_split[0] + '&sort=date'\n",
    "        \n",
    "        links.append(url)       \n",
    "        "
   ]
  },
  {
   "cell_type": "code",
   "execution_count": 4,
   "metadata": {
    "colab": {
     "base_uri": "https://localhost:8080/"
    },
    "id": "T28kwjm1zvyM",
    "outputId": "223cd720-a95f-47b1-e12a-fb0cc21fe63c",
    "scrolled": true
   },
   "outputs": [
    {
     "name": "stdout",
     "output_type": "stream",
     "text": [
      "https://www.indeed.com/jobs?q=Data+Analyst&l=Virginia&sort=date\n",
      "https://www.indeed.com/jobs?q=Data+Analyst&l=New+York&sort=date\n",
      "https://www.indeed.com/jobs?q=Data+Analyst&l=California&sort=date\n",
      "https://www.indeed.com/jobs?q=Data+Analyst&l=Texas&sort=date\n",
      "https://www.indeed.com/jobs?q=Data+Analyst&l=Washington+State&sort=date\n",
      "https://www.indeed.com/jobs?q=Data+Scientist&l=Virginia&sort=date\n",
      "https://www.indeed.com/jobs?q=Data+Scientist&l=New+York&sort=date\n",
      "https://www.indeed.com/jobs?q=Data+Scientist&l=California&sort=date\n",
      "https://www.indeed.com/jobs?q=Data+Scientist&l=Texas&sort=date\n",
      "https://www.indeed.com/jobs?q=Data+Scientist&l=Washington+State&sort=date\n",
      "https://www.indeed.com/jobs?q=Database+Administrator&l=Virginia&sort=date\n",
      "https://www.indeed.com/jobs?q=Database+Administrator&l=New+York&sort=date\n",
      "https://www.indeed.com/jobs?q=Database+Administrator&l=California&sort=date\n",
      "https://www.indeed.com/jobs?q=Database+Administrator&l=Texas&sort=date\n",
      "https://www.indeed.com/jobs?q=Database+Administrator&l=Washington+State&sort=date\n",
      "https://www.indeed.com/jobs?q=Machine+Learning&l=Virginia&sort=date\n",
      "https://www.indeed.com/jobs?q=Machine+Learning&l=New+York&sort=date\n",
      "https://www.indeed.com/jobs?q=Machine+Learning&l=California&sort=date\n",
      "https://www.indeed.com/jobs?q=Machine+Learning&l=Texas&sort=date\n",
      "https://www.indeed.com/jobs?q=Machine+Learning&l=Washington+State&sort=date\n",
      "https://www.indeed.com/jobs?q=Data+Engineer&l=Virginia&sort=date\n",
      "https://www.indeed.com/jobs?q=Data+Engineer&l=New+York&sort=date\n",
      "https://www.indeed.com/jobs?q=Data+Engineer&l=California&sort=date\n",
      "https://www.indeed.com/jobs?q=Data+Engineer&l=Texas&sort=date\n",
      "https://www.indeed.com/jobs?q=Data+Engineer&l=Washington+State&sort=date\n"
     ]
    }
   ],
   "source": [
    "for link in links:\n",
    "    print(link)"
   ]
  },
  {
   "cell_type": "markdown",
   "metadata": {
    "id": "Hh1gJM_rlJ2Y"
   },
   "source": [
    "### Step 2: [Extracting the elements]"
   ]
  },
  {
   "cell_type": "code",
   "execution_count": 5,
   "metadata": {
    "id": "ipHwKfXVk7-Q"
   },
   "outputs": [],
   "source": [
    "title = []\n",
    "company = []\n",
    "location = []\n",
    "salary = []\n",
    "description = []\n",
    "date = []\n",
    "rating = []"
   ]
  },
  {
   "cell_type": "code",
   "execution_count": 6,
   "metadata": {
    "id": "ZNbpTeHFz5oC"
   },
   "outputs": [],
   "source": [
    "for url in links:\n",
    "    response = get(url)\n",
    "    soup = BeautifulSoup(response.text, 'html.parser')\n",
    "    job_container = soup.find_all('div', {'class': {'job_seen_beacon'}})\n",
    "\n",
    "    for container in job_container:\n",
    "\n",
    "        try:\n",
    "            container.find('h2',{'class': 'jobTitle'})\n",
    "            title_container = container.find('h2',{'class': 'jobTitle'})\n",
    "            title.append(title_container.text)\n",
    "        except:\n",
    "            title.append('Missing')\n",
    "\n",
    "        try: \n",
    "            container.find('span',{'class': 'companyName'}) \n",
    "            company_container = container.find('span',{'class': 'companyName'})\n",
    "            company.append(company_container.text)\n",
    "        except:\n",
    "            company.append('Missing')\n",
    "\n",
    "        try:\n",
    "            container.find('div',{'class': 'companyLocation'})\n",
    "            location_container = container.find('div',{'class': 'companyLocation'})\n",
    "            location.append(location_container.text)\n",
    "        except:\n",
    "            location.append('Missing')\n",
    "\n",
    "        try:\n",
    "            container.find('div',{'class': 'metadata salary-snippet-container'})\n",
    "            salary_container = container.find('div',{'class': 'metadata salary-snippet-container'})\n",
    "            salary.append(salary_container.text)\n",
    "        except:\n",
    "            salary.append('Missing')\n",
    "    \n",
    "        try:\n",
    "            container.find('div', {'class':'job-snippet'})\n",
    "            description_container = container.find('div', {'class':'job-snippet'})\n",
    "            description.append(description_container.text)\n",
    "        except:\n",
    "            description.append('Missing')\n",
    "\n",
    "        try: \n",
    "            container.find('span', {'class': 'date'})\n",
    "            date_container = container.find('span', {'class': 'date'})\n",
    "            date.append(date_container.text)\n",
    "        except:\n",
    "            date.append('Missing')\n",
    "\n",
    "        try: \n",
    "            container.find('span', {'class': 'ratingsDisplay withRatingLink'})\n",
    "            rating_container = container.find('span', {'class': 'ratingsDisplay withRatingLink'})\n",
    "            rating_container_flt = float(rating_container.text)\n",
    "            rating.append(rating_container_flt)\n",
    "        except:\n",
    "            rating.append('Missing')\n",
    "    "
   ]
  },
  {
   "cell_type": "code",
   "execution_count": 7,
   "metadata": {
    "colab": {
     "base_uri": "https://localhost:8080/",
     "height": 581
    },
    "id": "FUNEZmBZb-y2",
    "outputId": "7dc50b45-e8b7-42b0-c313-dbdd4052d629"
   },
   "outputs": [
    {
     "data": {
      "text/html": [
       "<div>\n",
       "<style scoped>\n",
       "    .dataframe tbody tr th:only-of-type {\n",
       "        vertical-align: middle;\n",
       "    }\n",
       "\n",
       "    .dataframe tbody tr th {\n",
       "        vertical-align: top;\n",
       "    }\n",
       "\n",
       "    .dataframe thead th {\n",
       "        text-align: right;\n",
       "    }\n",
       "</style>\n",
       "<table border=\"1\" class=\"dataframe\">\n",
       "  <thead>\n",
       "    <tr style=\"text-align: right;\">\n",
       "      <th></th>\n",
       "      <th>Job title</th>\n",
       "      <th>Company Name</th>\n",
       "      <th>Job location</th>\n",
       "      <th>Salary</th>\n",
       "      <th>Job description</th>\n",
       "      <th>Date of posting</th>\n",
       "      <th>Rating of the company</th>\n",
       "    </tr>\n",
       "  </thead>\n",
       "  <tbody>\n",
       "    <tr>\n",
       "      <th>0</th>\n",
       "      <td>newBusiness Analyst III</td>\n",
       "      <td>Estes Express Lines, Inc.</td>\n",
       "      <td>Richmond, VA 23230 (Sauer's Gardens area)</td>\n",
       "      <td>Missing</td>\n",
       "      <td>\\nMinimum 5 years’ experience designing and de...</td>\n",
       "      <td>PostedToday</td>\n",
       "      <td>3.3</td>\n",
       "    </tr>\n",
       "    <tr>\n",
       "      <th>1</th>\n",
       "      <td>newJunior Business Analyst &amp; Tester</td>\n",
       "      <td>Armedia LLC</td>\n",
       "      <td>Vienna, VA 22182</td>\n",
       "      <td>Missing</td>\n",
       "      <td>\\nIn this position, you may do BA activities, ...</td>\n",
       "      <td>PostedToday</td>\n",
       "      <td>4.4</td>\n",
       "    </tr>\n",
       "    <tr>\n",
       "      <th>2</th>\n",
       "      <td>newDirector, Federal Healthcare Data Analytics</td>\n",
       "      <td>KPMG</td>\n",
       "      <td>McLean, VA 22102+1 location</td>\n",
       "      <td>Missing</td>\n",
       "      <td>\\nUnderstand and articulate technology options...</td>\n",
       "      <td>PostedToday</td>\n",
       "      <td>3.9</td>\n",
       "    </tr>\n",
       "    <tr>\n",
       "      <th>3</th>\n",
       "      <td>newAssociate, Data Scientist - Financial Servi...</td>\n",
       "      <td>KPMG</td>\n",
       "      <td>McLean, VA 22102</td>\n",
       "      <td>Missing</td>\n",
       "      <td>\\nAnalyze and model structured data and implem...</td>\n",
       "      <td>PostedToday</td>\n",
       "      <td>3.9</td>\n",
       "    </tr>\n",
       "    <tr>\n",
       "      <th>4</th>\n",
       "      <td>newGlobal Chief Data Office EMS - Metrics and ...</td>\n",
       "      <td>PRICE WATERHOUSE COOPERS</td>\n",
       "      <td>Richmond, VA 23219 (Central Office area)+1 loc...</td>\n",
       "      <td>Missing</td>\n",
       "      <td>\\nLeading engagements with data domain leaders...</td>\n",
       "      <td>PostedToday</td>\n",
       "      <td>4</td>\n",
       "    </tr>\n",
       "  </tbody>\n",
       "</table>\n",
       "</div>"
      ],
      "text/plain": [
       "                                           Job title  \\\n",
       "0                            newBusiness Analyst III   \n",
       "1                newJunior Business Analyst & Tester   \n",
       "2     newDirector, Federal Healthcare Data Analytics   \n",
       "3  newAssociate, Data Scientist - Financial Servi...   \n",
       "4  newGlobal Chief Data Office EMS - Metrics and ...   \n",
       "\n",
       "                Company Name  \\\n",
       "0  Estes Express Lines, Inc.   \n",
       "1                Armedia LLC   \n",
       "2                       KPMG   \n",
       "3                       KPMG   \n",
       "4   PRICE WATERHOUSE COOPERS   \n",
       "\n",
       "                                        Job location   Salary  \\\n",
       "0          Richmond, VA 23230 (Sauer's Gardens area)  Missing   \n",
       "1                                   Vienna, VA 22182  Missing   \n",
       "2                        McLean, VA 22102+1 location  Missing   \n",
       "3                                   McLean, VA 22102  Missing   \n",
       "4  Richmond, VA 23219 (Central Office area)+1 loc...  Missing   \n",
       "\n",
       "                                     Job description Date of posting  \\\n",
       "0  \\nMinimum 5 years’ experience designing and de...     PostedToday   \n",
       "1  \\nIn this position, you may do BA activities, ...     PostedToday   \n",
       "2  \\nUnderstand and articulate technology options...     PostedToday   \n",
       "3  \\nAnalyze and model structured data and implem...     PostedToday   \n",
       "4  \\nLeading engagements with data domain leaders...     PostedToday   \n",
       "\n",
       "  Rating of the company  \n",
       "0                   3.3  \n",
       "1                   4.4  \n",
       "2                   3.9  \n",
       "3                   3.9  \n",
       "4                     4  "
      ]
     },
     "execution_count": 7,
     "metadata": {},
     "output_type": "execute_result"
    }
   ],
   "source": [
    "df = pd.DataFrame({'Job title':title,\n",
    "                          'Company Name': company,\n",
    "                          'Job location': location,\n",
    "                          'Salary': salary,\n",
    "                          'Job description': description,\n",
    "                          'Date of posting': date,\n",
    "                          'Rating of the company': rating\n",
    "                         })\n",
    "df.head()"
   ]
  },
  {
   "cell_type": "markdown",
   "metadata": {
    "id": "imTG-yZ7ldE0"
   },
   "source": [
    "### Step 3: [Data manipulation]"
   ]
  },
  {
   "cell_type": "markdown",
   "metadata": {
    "id": "SQzPE7Jzmqdr"
   },
   "source": [
    "Editing text in columns by removing all newlines ('\\n)\n",
    "\n",
    "Removing the substring 'new' in the beginning off all Job Titles and 'Posted' from the beginning of Date of posting "
   ]
  },
  {
   "cell_type": "code",
   "execution_count": 8,
   "metadata": {
    "colab": {
     "base_uri": "https://localhost:8080/",
     "height": 578
    },
    "id": "VkJvVFojcoR1",
    "outputId": "26b3b62f-ee70-4e47-9b4c-2ccf03a94a49"
   },
   "outputs": [
    {
     "data": {
      "text/html": [
       "<div>\n",
       "<style scoped>\n",
       "    .dataframe tbody tr th:only-of-type {\n",
       "        vertical-align: middle;\n",
       "    }\n",
       "\n",
       "    .dataframe tbody tr th {\n",
       "        vertical-align: top;\n",
       "    }\n",
       "\n",
       "    .dataframe thead th {\n",
       "        text-align: right;\n",
       "    }\n",
       "</style>\n",
       "<table border=\"1\" class=\"dataframe\">\n",
       "  <thead>\n",
       "    <tr style=\"text-align: right;\">\n",
       "      <th></th>\n",
       "      <th>Job title</th>\n",
       "      <th>Company Name</th>\n",
       "      <th>Job location</th>\n",
       "      <th>Salary</th>\n",
       "      <th>Job description</th>\n",
       "      <th>Date of posting</th>\n",
       "      <th>Rating of the company</th>\n",
       "    </tr>\n",
       "  </thead>\n",
       "  <tbody>\n",
       "    <tr>\n",
       "      <th>0</th>\n",
       "      <td>Business Analyst III</td>\n",
       "      <td>Estes Express Lines, Inc.</td>\n",
       "      <td>Richmond, VA 23230 (Sauer's Gardens area)</td>\n",
       "      <td>Missing</td>\n",
       "      <td>Minimum 5 years’ experience designing and depl...</td>\n",
       "      <td>Today</td>\n",
       "      <td>3.3</td>\n",
       "    </tr>\n",
       "    <tr>\n",
       "      <th>1</th>\n",
       "      <td>Junior Business Analyst &amp; Tester</td>\n",
       "      <td>Armedia LLC</td>\n",
       "      <td>Vienna, VA 22182</td>\n",
       "      <td>Missing</td>\n",
       "      <td>In this position, you may do BA activities, bu...</td>\n",
       "      <td>Today</td>\n",
       "      <td>4.4</td>\n",
       "    </tr>\n",
       "    <tr>\n",
       "      <th>2</th>\n",
       "      <td>Director, Federal Healthcare Data Analytics</td>\n",
       "      <td>KPMG</td>\n",
       "      <td>McLean, VA 22102+1 location</td>\n",
       "      <td>Missing</td>\n",
       "      <td>Understand and articulate technology options a...</td>\n",
       "      <td>Today</td>\n",
       "      <td>3.9</td>\n",
       "    </tr>\n",
       "    <tr>\n",
       "      <th>3</th>\n",
       "      <td>Associate, Data Scientist - Financial Services...</td>\n",
       "      <td>KPMG</td>\n",
       "      <td>McLean, VA 22102</td>\n",
       "      <td>Missing</td>\n",
       "      <td>Analyze and model structured data and implemen...</td>\n",
       "      <td>Today</td>\n",
       "      <td>3.9</td>\n",
       "    </tr>\n",
       "    <tr>\n",
       "      <th>4</th>\n",
       "      <td>Global Chief Data Office EMS - Metrics and Gov...</td>\n",
       "      <td>PRICE WATERHOUSE COOPERS</td>\n",
       "      <td>Richmond, VA 23219 (Central Office area)+1 loc...</td>\n",
       "      <td>Missing</td>\n",
       "      <td>Leading engagements with data domain leaders t...</td>\n",
       "      <td>Today</td>\n",
       "      <td>4</td>\n",
       "    </tr>\n",
       "  </tbody>\n",
       "</table>\n",
       "</div>"
      ],
      "text/plain": [
       "                                           Job title  \\\n",
       "0                               Business Analyst III   \n",
       "1                   Junior Business Analyst & Tester   \n",
       "2        Director, Federal Healthcare Data Analytics   \n",
       "3  Associate, Data Scientist - Financial Services...   \n",
       "4  Global Chief Data Office EMS - Metrics and Gov...   \n",
       "\n",
       "                Company Name  \\\n",
       "0  Estes Express Lines, Inc.   \n",
       "1                Armedia LLC   \n",
       "2                       KPMG   \n",
       "3                       KPMG   \n",
       "4   PRICE WATERHOUSE COOPERS   \n",
       "\n",
       "                                        Job location   Salary  \\\n",
       "0          Richmond, VA 23230 (Sauer's Gardens area)  Missing   \n",
       "1                                   Vienna, VA 22182  Missing   \n",
       "2                        McLean, VA 22102+1 location  Missing   \n",
       "3                                   McLean, VA 22102  Missing   \n",
       "4  Richmond, VA 23219 (Central Office area)+1 loc...  Missing   \n",
       "\n",
       "                                     Job description Date of posting  \\\n",
       "0  Minimum 5 years’ experience designing and depl...           Today   \n",
       "1  In this position, you may do BA activities, bu...           Today   \n",
       "2  Understand and articulate technology options a...           Today   \n",
       "3  Analyze and model structured data and implemen...           Today   \n",
       "4  Leading engagements with data domain leaders t...           Today   \n",
       "\n",
       "  Rating of the company  \n",
       "0                   3.3  \n",
       "1                   4.4  \n",
       "2                   3.9  \n",
       "3                   3.9  \n",
       "4                     4  "
      ]
     },
     "execution_count": 8,
     "metadata": {},
     "output_type": "execute_result"
    }
   ],
   "source": [
    "df['Job title'] = df['Job title'].str.replace('new', '', 1)\n",
    "df['Date of posting'] = df['Date of posting'].str.replace('Posted', '', 1)\n",
    "df=df.replace('\\n','', regex=True)\n",
    "df.head()"
   ]
  },
  {
   "cell_type": "markdown",
   "metadata": {
    "id": "Sl_B_L6Vm67J"
   },
   "source": [
    "Splitting Job Location into two seperate columns: 'City' and 'State Information'"
   ]
  },
  {
   "cell_type": "code",
   "execution_count": 9,
   "metadata": {
    "colab": {
     "base_uri": "https://localhost:8080/",
     "height": 598
    },
    "id": "VJgKr6VVh8ON",
    "outputId": "9f30beee-9381-4926-a42d-887f3ebc1964"
   },
   "outputs": [
    {
     "data": {
      "text/html": [
       "<div>\n",
       "<style scoped>\n",
       "    .dataframe tbody tr th:only-of-type {\n",
       "        vertical-align: middle;\n",
       "    }\n",
       "\n",
       "    .dataframe tbody tr th {\n",
       "        vertical-align: top;\n",
       "    }\n",
       "\n",
       "    .dataframe thead th {\n",
       "        text-align: right;\n",
       "    }\n",
       "</style>\n",
       "<table border=\"1\" class=\"dataframe\">\n",
       "  <thead>\n",
       "    <tr style=\"text-align: right;\">\n",
       "      <th></th>\n",
       "      <th>Job title</th>\n",
       "      <th>Company Name</th>\n",
       "      <th>Job location</th>\n",
       "      <th>Salary</th>\n",
       "      <th>Job description</th>\n",
       "      <th>Date of posting</th>\n",
       "      <th>Rating of the company</th>\n",
       "      <th>City</th>\n",
       "      <th>State Information</th>\n",
       "    </tr>\n",
       "  </thead>\n",
       "  <tbody>\n",
       "    <tr>\n",
       "      <th>0</th>\n",
       "      <td>Business Analyst III</td>\n",
       "      <td>Estes Express Lines, Inc.</td>\n",
       "      <td>Richmond, VA 23230 (Sauer's Gardens area)</td>\n",
       "      <td>Missing</td>\n",
       "      <td>Minimum 5 years’ experience designing and depl...</td>\n",
       "      <td>Today</td>\n",
       "      <td>3.3</td>\n",
       "      <td>Richmond</td>\n",
       "      <td>VA 23230 (Sauer's Gardens area)</td>\n",
       "    </tr>\n",
       "    <tr>\n",
       "      <th>1</th>\n",
       "      <td>Junior Business Analyst &amp; Tester</td>\n",
       "      <td>Armedia LLC</td>\n",
       "      <td>Vienna, VA 22182</td>\n",
       "      <td>Missing</td>\n",
       "      <td>In this position, you may do BA activities, bu...</td>\n",
       "      <td>Today</td>\n",
       "      <td>4.4</td>\n",
       "      <td>Vienna</td>\n",
       "      <td>VA 22182</td>\n",
       "    </tr>\n",
       "    <tr>\n",
       "      <th>2</th>\n",
       "      <td>Director, Federal Healthcare Data Analytics</td>\n",
       "      <td>KPMG</td>\n",
       "      <td>McLean, VA 22102+1 location</td>\n",
       "      <td>Missing</td>\n",
       "      <td>Understand and articulate technology options a...</td>\n",
       "      <td>Today</td>\n",
       "      <td>3.9</td>\n",
       "      <td>McLean</td>\n",
       "      <td>VA 22102+1 location</td>\n",
       "    </tr>\n",
       "    <tr>\n",
       "      <th>3</th>\n",
       "      <td>Associate, Data Scientist - Financial Services...</td>\n",
       "      <td>KPMG</td>\n",
       "      <td>McLean, VA 22102</td>\n",
       "      <td>Missing</td>\n",
       "      <td>Analyze and model structured data and implemen...</td>\n",
       "      <td>Today</td>\n",
       "      <td>3.9</td>\n",
       "      <td>McLean</td>\n",
       "      <td>VA 22102</td>\n",
       "    </tr>\n",
       "    <tr>\n",
       "      <th>4</th>\n",
       "      <td>Global Chief Data Office EMS - Metrics and Gov...</td>\n",
       "      <td>PRICE WATERHOUSE COOPERS</td>\n",
       "      <td>Richmond, VA 23219 (Central Office area)+1 loc...</td>\n",
       "      <td>Missing</td>\n",
       "      <td>Leading engagements with data domain leaders t...</td>\n",
       "      <td>Today</td>\n",
       "      <td>4</td>\n",
       "      <td>Richmond</td>\n",
       "      <td>VA 23219 (Central Office area)+1 location</td>\n",
       "    </tr>\n",
       "  </tbody>\n",
       "</table>\n",
       "</div>"
      ],
      "text/plain": [
       "                                           Job title  \\\n",
       "0                               Business Analyst III   \n",
       "1                   Junior Business Analyst & Tester   \n",
       "2        Director, Federal Healthcare Data Analytics   \n",
       "3  Associate, Data Scientist - Financial Services...   \n",
       "4  Global Chief Data Office EMS - Metrics and Gov...   \n",
       "\n",
       "                Company Name  \\\n",
       "0  Estes Express Lines, Inc.   \n",
       "1                Armedia LLC   \n",
       "2                       KPMG   \n",
       "3                       KPMG   \n",
       "4   PRICE WATERHOUSE COOPERS   \n",
       "\n",
       "                                        Job location   Salary  \\\n",
       "0          Richmond, VA 23230 (Sauer's Gardens area)  Missing   \n",
       "1                                   Vienna, VA 22182  Missing   \n",
       "2                        McLean, VA 22102+1 location  Missing   \n",
       "3                                   McLean, VA 22102  Missing   \n",
       "4  Richmond, VA 23219 (Central Office area)+1 loc...  Missing   \n",
       "\n",
       "                                     Job description Date of posting  \\\n",
       "0  Minimum 5 years’ experience designing and depl...           Today   \n",
       "1  In this position, you may do BA activities, bu...           Today   \n",
       "2  Understand and articulate technology options a...           Today   \n",
       "3  Analyze and model structured data and implemen...           Today   \n",
       "4  Leading engagements with data domain leaders t...           Today   \n",
       "\n",
       "  Rating of the company      City                           State Information  \n",
       "0                   3.3  Richmond             VA 23230 (Sauer's Gardens area)  \n",
       "1                   4.4    Vienna                                    VA 22182  \n",
       "2                   3.9    McLean                         VA 22102+1 location  \n",
       "3                   3.9    McLean                                    VA 22102  \n",
       "4                     4  Richmond   VA 23219 (Central Office area)+1 location  "
      ]
     },
     "execution_count": 9,
     "metadata": {},
     "output_type": "execute_result"
    }
   ],
   "source": [
    "df[['City', 'State Information']] = df['Job location'].str.split(',', expand=True)\n",
    "df.head()"
   ]
  },
  {
   "cell_type": "markdown",
   "metadata": {
    "id": "vrB5rJ7qnVlA"
   },
   "source": [
    "Printing percentages of jobs in each city"
   ]
  },
  {
   "cell_type": "code",
   "execution_count": 11,
   "metadata": {
    "colab": {
     "base_uri": "https://localhost:8080/"
    },
    "id": "aDSDjGrAiH_G",
    "outputId": "d473ef83-6fbb-4b3f-adde-6bc1665d0ad0"
   },
   "outputs": [
    {
     "data": {
      "text/plain": [
       "New York         15.200000\n",
       "Seattle          12.533333\n",
       "Austin            7.733333\n",
       "San Francisco     5.600000\n",
       "Dallas            4.533333\n",
       "                   ...    \n",
       "Allen             0.266667\n",
       "Potomac Falls     0.266667\n",
       "Renton            0.266667\n",
       "Sacramento        0.266667\n",
       "Tysons            0.266667\n",
       "Name: City, Length: 105, dtype: float64"
      ]
     },
     "execution_count": 11,
     "metadata": {},
     "output_type": "execute_result"
    }
   ],
   "source": [
    "df['City'].value_counts(normalize=True)*100"
   ]
  },
  {
   "cell_type": "markdown",
   "metadata": {},
   "source": [
    "Exporting Dataframe to CSV"
   ]
  },
  {
   "cell_type": "code",
   "execution_count": 12,
   "metadata": {
    "colab": {
     "base_uri": "https://localhost:8080/",
     "height": 375
    },
    "id": "TxJV00-BvDTk",
    "outputId": "ff835418-058c-466f-ab57-3ede739f40e2"
   },
   "outputs": [],
   "source": [
    "df.to_csv('/Users/kritik/Desktop/Mirg_Kritik_INST447_PA4.csv')"
   ]
  }
 ],
 "metadata": {
  "colab": {
   "name": "Mirg_Kritik_INST447_PA4.ipynb",
   "provenance": []
  },
  "kernelspec": {
   "display_name": "Python 3",
   "language": "python",
   "name": "python3"
  },
  "language_info": {
   "codemirror_mode": {
    "name": "ipython",
    "version": 3
   },
   "file_extension": ".py",
   "mimetype": "text/x-python",
   "name": "python",
   "nbconvert_exporter": "python",
   "pygments_lexer": "ipython3",
   "version": "3.7.6"
  }
 },
 "nbformat": 4,
 "nbformat_minor": 1
}
